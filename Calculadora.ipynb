{
 "cells": [
  {
   "cell_type": "code",
   "execution_count": 2,
   "id": "20ce4c62",
   "metadata": {},
   "outputs": [],
   "source": [
    "import math"
   ]
  },
  {
   "cell_type": "code",
   "execution_count": 6,
   "id": "b35ef0aa",
   "metadata": {},
   "outputs": [],
   "source": [
    "def devolverResultadoDeOperacion (num1,num2,oper1):\n",
    "    if oper1 == \"suma\" or oper1 == \"Suma\" or oper1 == \"SUMA\":\n",
    "        a = num1 + num2\n",
    "        return a\n",
    "    elif oper1 == \"resta\" or oper1 == \"Resta\" or oper1 == \"RESTA\":\n",
    "        a = num1-num2\n",
    "        return a\n",
    "    elif oper1 == \"división\" or  oper1 == \"División\" or oper1 == \"DIVISIÓN\":\n",
    "        a = num1//num2\n",
    "        return a\n",
    "    elif oper1 == \"multiplicación\" or oper1 == \"Multiplicación\" or oper1 == \"MULTIPLICACIÓN\":\n",
    "        a = num1*num2\n",
    "        return a"
   ]
  },
  {
   "cell_type": "code",
   "execution_count": 16,
   "id": "9f2a5dcf",
   "metadata": {},
   "outputs": [
    {
     "name": "stdout",
     "output_type": "stream",
     "text": [
      "Introduzca el primer número: 1\n",
      "Introduzca el segundo número: 1\n",
      "Introduzca el tipo de operación que desea realizar: suma\n",
      "El resultado es 2\n",
      "¿Desea realizar alguna operación con este resultado? si\n",
      "Introduzca el siguiente número: 1\n",
      "Introduzca el tipo de operación que desea realizar: suma\n",
      "El resultado es 3\n",
      "¿Desea realizar alguna operación con este resultado? no\n",
      "Fin de la operación\n"
     ]
    }
   ],
   "source": [
    "num1 = int (input(\"Introduzca el primer número: \"))\n",
    "num2 = int (input (\"Introduzca el segundo número: \"))\n",
    "oper1 = input (\"Introduzca el tipo de operación que desea realizar: \")\n",
    "a = devolverResultadoDeOperacion (num1,num2,oper1)\n",
    "print (\"El resultado es\", a)\n",
    "\n",
    "x = \"Si\"\n",
    "while x == \"Si\" or x == \"si\":\n",
    "    x = input(\"¿Desea realizar alguna operación con este resultado? \")\n",
    "    if x == \"Si\" or x == \"si\":\n",
    "        num3 = int (input (\"Introduzca el siguiente número: \"))\n",
    "        oper2 = input (\"Introduzca el tipo de operación que desea realizar: \")\n",
    "        b = devolverResultadoDeOperacion (a,num3,oper2)\n",
    "        print (\"El resultado es\", b)\n",
    "    else:\n",
    "        print (\"Fin de la operación\")"
   ]
  },
  {
   "cell_type": "code",
   "execution_count": null,
   "id": "37388333",
   "metadata": {},
   "outputs": [],
   "source": []
  }
 ],
 "metadata": {
  "kernelspec": {
   "display_name": "Python 3 (ipykernel)",
   "language": "python",
   "name": "python3"
  },
  "language_info": {
   "codemirror_mode": {
    "name": "ipython",
    "version": 3
   },
   "file_extension": ".py",
   "mimetype": "text/x-python",
   "name": "python",
   "nbconvert_exporter": "python",
   "pygments_lexer": "ipython3",
   "version": "3.9.13"
  },
  "toc": {
   "base_numbering": 1,
   "nav_menu": {},
   "number_sections": true,
   "sideBar": true,
   "skip_h1_title": false,
   "title_cell": "Table of Contents",
   "title_sidebar": "Contents",
   "toc_cell": false,
   "toc_position": {},
   "toc_section_display": true,
   "toc_window_display": false
  }
 },
 "nbformat": 4,
 "nbformat_minor": 5
}
